{
 "cells": [
  {
   "cell_type": "code",
   "execution_count": 69,
   "metadata": {},
   "outputs": [],
   "source": [
    "from __future__ import print_function\n",
    "from rdkit import Chem\n",
    "import tensorflow as tf\n",
    "import numpy as np\n",
    "import pandas as pd\n",
    "import os\n",
    "import gzip\n",
    "import multiprocessing as mp\n"
   ]
  },
  {
   "cell_type": "markdown",
   "metadata": {},
   "source": [
    "\n",
    "first we want to load the data:\n",
    "\n",
    "- ~/Documents/git/DUDE/DUDE contains a folder for each of the 102 targets in DUDE\n",
    "- each folder contains *.ism / *.mol2 / *.sdf files for active and decoy molecules \n",
    "- to try to predict \"bioactivity\" (althouhg, how do we know that decoys are actually not active on other targers? <span style=\"color:red\">check how exactly decoys are genereated</span>\n",
    "\n"
   ]
  },
  {
   "cell_type": "code",
   "execution_count": 110,
   "metadata": {},
   "outputs": [],
   "source": [
    "#get the 102 directors and extract the data \n",
    "\n",
    "\n",
    "path = \"../DUDE/DUDE\"\n",
    "#get all folders\n",
    "all_targ = os.listdir(path)\n",
    "#output = mp.Queue()\n",
    "\n",
    "#for 102 example..... get *sdf.gz\n",
    "\n",
    "\n",
    "def make_dframe(name):\n",
    "    tmp_act = gzip.open(path+\"/\"+name+\"/\"+'actives_final.sdf.gz')\n",
    "    tmp_dec = gzip.open(path+\"/\"+name+\"/\"+'decoys_final.sdf.gz')\n",
    "    \n",
    "    #read files\n",
    "    cont_act = Chem.ForwardSDMolSupplier(tmp_act)\n",
    "    cont_dec = Chem.ForwardSDMolSupplier(tmp_dec)\n",
    "\n",
    "    #and make a list\n",
    "    list_act = [x for x in cont_act if x is not None]\n",
    "    list_dec = [x for x in cont_dec if x is not None]\n",
    "\n",
    "    from rdkit.Chem import AllChem\n",
    "    dframe = pd.DataFrame(columns=['target_name',\"fp\",\"active\"]) \n",
    "    \n",
    "    for m in list_act:\n",
    "        dframe = dframe.append({'target_name':name,\n",
    "                                'fp':AllChem.GetMorganFingerprintAsBitVect(m,2,nBits=2048),\n",
    "                               'active':1},ignore_index=True)\n",
    "    for m in list_dec:\n",
    "        dframe = dframe.append({'target_name':name,\n",
    "                                'fp':AllChem.GetMorganFingerprintAsBitVect(m,2,nBits=2048),\n",
    "                                'active':0}, ignore_index=True)\n",
    "    #output.put(dframe)\n",
    "    return dframe"
   ]
  },
  {
   "cell_type": "code",
   "execution_count": 111,
   "metadata": {},
   "outputs": [],
   "source": [
    "pool = mp.Pool(35)\n",
    "\n",
    "result = pool.map(make_dframe, [x for x in all_targ]) \n"
   ]
  },
  {
   "cell_type": "code",
   "execution_count": 113,
   "metadata": {},
   "outputs": [],
   "source": [
    "dframe = pd.DataFrame(columns=['target_name',\"fp\",\"active\"]) \n",
    "for df in result:\n",
    "    dframe = dframe.append(df)\n",
    "    "
   ]
  },
  {
   "cell_type": "markdown",
   "metadata": {},
   "source": [
    "\n",
    "now that we have a pandas dataframe with all the morgan fingerpritns of all the active and decoys of DUDE we build a very high lvl TF Pipeline"
   ]
  },
  {
   "cell_type": "code",
   "execution_count": null,
   "metadata": {},
   "outputs": [],
   "source": []
  },
  {
   "cell_type": "code",
   "execution_count": null,
   "metadata": {},
   "outputs": [],
   "source": []
  }
 ],
 "metadata": {
  "kernelspec": {
   "display_name": "Python 3",
   "language": "python",
   "name": "python3"
  },
  "language_info": {
   "codemirror_mode": {
    "name": "ipython",
    "version": 3
   },
   "file_extension": ".py",
   "mimetype": "text/x-python",
   "name": "python",
   "nbconvert_exporter": "python",
   "pygments_lexer": "ipython3",
   "version": "3.6.5"
  }
 },
 "nbformat": 4,
 "nbformat_minor": 2
}
