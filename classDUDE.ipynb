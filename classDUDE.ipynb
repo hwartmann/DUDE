{
 "cells": [
  {
   "cell_type": "markdown",
   "metadata": {},
   "source": [
    "GOAL: Download and featurize DUDE dataset to predict bioactivity in molecules. i thought this will work at all. later I want to integrate spatial information between ligand and target, but how? binding poses might be found for actives but what about decoys? AutoDock might be able to help here, althought I do not quite understand if the predicted poses are actually possible posses (ATOMNet certaindly does something similar, althought it's not clear what)"
   ]
  },
  {
   "cell_type": "markdown",
   "metadata": {},
   "source": [
    "First the test run with a single target, load data with rdkit, featurize everything with some fingerprint function and create a pandas data set, then we'll feed that into some very basic TF stuff I'll put together."
   ]
  },
  {
   "cell_type": "code",
   "execution_count": null,
   "metadata": {},
   "outputs": [],
   "source": []
  },
  {
   "cell_type": "code",
   "execution_count": null,
   "metadata": {},
   "outputs": [],
   "source": []
  }
 ],
 "metadata": {
  "kernelspec": {
   "display_name": "Python 3",
   "language": "python",
   "name": "python3"
  },
  "language_info": {
   "codemirror_mode": {
    "name": "ipython",
    "version": 3
   },
   "file_extension": ".py",
   "mimetype": "text/x-python",
   "name": "python",
   "nbconvert_exporter": "python",
   "pygments_lexer": "ipython3",
   "version": "3.6.5"
  }
 },
 "nbformat": 4,
 "nbformat_minor": 2
}
